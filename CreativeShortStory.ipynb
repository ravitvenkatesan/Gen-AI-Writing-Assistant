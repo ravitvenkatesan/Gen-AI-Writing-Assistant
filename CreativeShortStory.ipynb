{
 "cells": [
  {
   "cell_type": "markdown",
   "id": "1ef9cf28-e389-4d95-b0d3-c61522b624ee",
   "metadata": {},
   "source": [
    "Fixed Length Ollama Generated Story With Context"
   ]
  },
  {
   "cell_type": "code",
   "execution_count": 1,
   "id": "e7077e85-5a9d-4dae-875e-1b8ce7912bc9",
   "metadata": {},
   "outputs": [],
   "source": [
    "import ollama"
   ]
  },
  {
   "cell_type": "code",
   "execution_count": 2,
   "id": "ace88a3d-e0bd-4f8c-b86d-d0cc87bdaa4c",
   "metadata": {},
   "outputs": [
    {
     "data": {
      "text/plain": [
       "ProgressResponse(status='success', completed=None, total=None, digest=None)"
      ]
     },
     "execution_count": 2,
     "metadata": {},
     "output_type": "execute_result"
    }
   ],
   "source": [
    "ollama.pull(\"llama2\")"
   ]
  },
  {
   "cell_type": "code",
   "execution_count": 4,
   "id": "0e25515b-c133-44e1-b38d-d33717c4c348",
   "metadata": {},
   "outputs": [
    {
     "name": "stdout",
     "output_type": "stream",
     "text": [
      "\n",
      "In the land of Middle-earth, where elves and hobbits roamed free, there lived a young maiden named Cinderella. She was beautiful, kind, and gentle, but her stepmother and stepsisters treated her with cruelty and disdain. They made her do all the chores and never allowed her to have any fun.\n",
      "\n",
      "One day, an invitation arrived for a grand ball at the palace of Elrond, where all the most noble creatures of Middle-earth were invited. Cinderella's stepsisters were overjoyed at the prospect of meeting their dream husbands, but Cinderella was not allowed to attend.\n",
      "\n",
      "Determined to go to the ball, Cinderella sought out the wise old wizard Gandalf for help. He gave her a magical dress and shoes that would take her to the palace in an instant. But, as she was getting ready to leave, her stepsisters discovered her secret and cut off her feet and headed to the ball themselves.\n",
      "\n",
      "At the palace, Cinderella's stepsisters danced with the most eligible bachelors of Middle-earth, but they were not interested in them. They were only interested in Cinderella, who had transformed into a beautiful princess with her magical dress and shoes. The prince of Gondor fell head over heels in love with Cinderella, and the two of them danced together all night long.\n",
      "\n",
      "In the end, Cinderella's stepsisters returned home empty-handed, while Cinderella married the prince and lived happily ever after in the kingdom of Gondor.\n"
     ]
    }
   ],
   "source": [
    "result = ollama.generate(model = \"llama2\",\n",
    "   prompt = \"Generate a short story not more than 250 words about Cinderella set in the context of Lord of the Rings\"\n",
    ")\n",
    "print(result[\"response\"])"
   ]
  },
  {
   "cell_type": "markdown",
   "id": "de644fa7-b28e-4b95-ab14-f376ba1cdb86",
   "metadata": {},
   "source": [
    "---"
   ]
  },
  {
   "cell_type": "markdown",
   "id": "a0d04f2b-4c9d-4dc3-8437-9baabc8b995a",
   "metadata": {},
   "source": [
    "Story Generated Using Ollama Chat"
   ]
  },
  {
   "cell_type": "code",
   "execution_count": 9,
   "id": "fd809f14-61db-4115-93db-60a5268e4de0",
   "metadata": {},
   "outputs": [
    {
     "data": {
      "text/plain": [
       "ProgressResponse(status='success', completed=None, total=None, digest=None)"
      ]
     },
     "execution_count": 9,
     "metadata": {},
     "output_type": "execute_result"
    }
   ],
   "source": [
    "import ollama\n",
    "ollama.pull(\"llama2\")"
   ]
  },
  {
   "cell_type": "code",
   "execution_count": 12,
   "id": "5f977462-a0c5-4823-b54b-64988dcb4087",
   "metadata": {},
   "outputs": [
    {
     "name": "stdout",
     "output_type": "stream",
     "text": [
      "\n",
      "Title: The Cabin in the Woods\n",
      "\n",
      "It was a dark and stormy night when four friends, Alex, Mike, Emily, and Sarah, arrived at their secluded cabin in the woods. They had been planning this trip for months, eager to escape the hustle and bustle of city life and unwind in the peaceful surroundings of nature. The cabin was located deep in the forest, far from civilization, and the group was excited to spend a weekend there, indulging in their favorite activities such as hiking, fishing, and campfires.\n",
      "\n",
      "As they settled into their cozy cabin, they noticed something strange. The trees around them seemed to be moving, and the wind howled eerily through the branches. They dismissed it as mere paranoia and continued with their plans. However, things started to take a turn for the worse as night fell.\n",
      "\n",
      "Alex, who was a light sleeper, woke up in the middle of the night to find Mike pacing back and forth in the living room, muttering to himself. Emily and Sarah were fast asleep, oblivious to the danger lurking outside. Alex tried to convince Mike to calm down, but he was inconsolable. Suddenly, a loud crash echoed through the cabin, followed by eerie whispers that seemed to come from everywhere and nowhere at the same time.\n",
      "\n",
      "The group tried to stay calm and investigate the source of the noise, but they found nothing out of the ordinary. They returned to their cozy space, hoping for a peaceful night's sleep. However, the whispers continued to haunt them, growing louder and more menacing with each passing moment.\n",
      "\n",
      "As the night wore on, the group started to experience strange visions and hallucinations. Emily saw a dark figure lurking in the shadows, while Sarah had vivid dreams of being chased by an unseen force. Mike was convinced that he was being watched, and Alex felt an inexplicable presence hovering over them.\n",
      "\n",
      "The climax of the story arrived as the group stumbled upon a hidden altar deep in the forest. Carved into the stone were ancient symbols, depicting rituals of human sacrifice. They realized too late that they had disturbed something evil and powerful, something that had been lying dormant for centuries, waiting to be awakened.\n",
      "\n",
      "As they frantically tried to escape, they found themselves surrounded by a horde of ghostly apparitions, their eyes glowing with an otherworldly light. The group fought for their lives, but the spirits were relentless, their screams echoing through the forest like a macabre symphony.\n",
      "\n",
      "In the end, only one person remained alive. Alex had managed to fend off the spirits and make it back to the cabin, where he collapsed in exhaustion and shock. When he awoke, he found himself alone, with no sign of his friends or any evidence of the horrors that had transpired in those woods. The cabin was still and quiet, as if nothing had ever happened.\n",
      "\n",
      "But Alex knew the truth. He knew that he had narrowly escaped death, and he would never forget the terror he felt that night in the woods. The memory of the ghostly apparitions and the ancient rituals carved into the stone altar would haunt him for the rest of his days, a constant reminder of the evil that lurked in the shadows of the forest, waiting to pounce on unsuspecting victims.\n",
      "\n",
      "The story ends with Alex walking away from the cabin, never to return again, carrying the horrors of that night with him forever. The woods remained silent and still, hiding their dark secrets beneath a thick veil of silence, waiting for another group of unsuspecting victims to stumble into their clutches.\n"
     ]
    }
   ],
   "source": [
    "response = ollama.chat(model = \"llama2\", messages = [\n",
    "    {\n",
    "        \"role\": \"system\", \"content\": \"You are a talented creative writer that writes short stories in any given genre\",\n",
    "        \"role\": \"user\", \"content\": \"Create a horror story involving 2 men and 2 women that is high drama with an amazing climax\",\n",
    "    },\n",
    "])\n",
    "\n",
    "print(response[\"message\"][\"content\"])\n",
    "     "
   ]
  },
  {
   "cell_type": "markdown",
   "id": "9f7d4ce7-9345-49a6-bb35-3a7778442a83",
   "metadata": {},
   "source": [
    "---"
   ]
  },
  {
   "cell_type": "markdown",
   "id": "a80104d3-16a5-4890-94cb-0e13807ecd4a",
   "metadata": {},
   "source": [
    "Writing Assistant Generate Function - Shorty Story Creator"
   ]
  },
  {
   "cell_type": "code",
   "execution_count": 21,
   "id": "17575820-19bc-47bf-994c-24be6e2bbbf6",
   "metadata": {
    "scrolled": true
   },
   "outputs": [
    {
     "data": {
      "text/markdown": [
       "\n",
       "It was a sweltering day in the heart of 19th century South America, and the Man, Woman, and Cat found themselves lost in the dense jungle. They had set out on an adventure together, seeking to escape the mundane routines of their lives in the city. The Man, with his rugged beard and weathered hat, led the way through the dense foliage, while the Woman, with her long, flowing locks and delicate features, followed closely behind. The Cat, with its piercing green eyes and fluffy fur, tagged along at the end of their chain, purring contentedly as it basked in the warm sunlight filtering through the leaves above.\n",
       "\n",
       "As they journeyed deeper into the jungle, they encountered a series of challenges that tested their resolve and determination. The humidity was oppressive, draining their energy and spirits with each step. The air was thick with the sounds of insects and birds, creating an eerie cacophony that made it difficult to communicate. And then there were the dangers lurking in every corner – snakes, spiders, and predators that could strike at any moment.\n",
       "\n",
       "Despite these obstacles, the Man, Woman, and Cat pressed on, driven by a fierce determination to reach their destination. They had heard rumors of a hidden waterfall deep within the jungle, where the water was said to have healing properties that could cure any ailment. The Man suffered from chronic back pain, the Woman's eyes were plagued by recurring headaches, and the Cat's coat had become dull and matted from lack of grooming. They hoped that a dip in the waterfall would restore their health and vitality.\n",
       "\n",
       "As they journeyed deeper into the jungle, they encountered a group of indigenous people who were harvesting a medicinal plant. The Man, Woman, and Cat watched in amazement as the villagers expertly trimmed the leaves and stems, then carried them away to be processed into medicine. The villagers welcomed the travelers with open arms, sharing their knowledge of the jungle's secrets and offering them shelter for the night.\n",
       "\n",
       "The next morning, the Man, Woman, and Cat set out again, following the trail of villagers who had gone ahead to the waterfall. The air grew cooler as they climbed higher into the mountains, and the sound of rushing water grew louder with each step. Finally, they emerged onto a rocky ledge overlooking a breathtaking waterfall, its waters cascading down in a misty veil to the pool below.\n",
       "\n",
       "The Man, Woman, and Cat stood in awe, transfixed by the sight before them. They watched as the villagers gathered around the pool, dipping their hands in the cool water and splashing it on their faces and bodies. The Man stretched out his back, letting the water soothe his muscles; the Woman closed her eyes and let the water wash away her headaches; and the Cat purred contentedly as it lapped at the pool's edge.\n",
       "\n",
       "As they basked in the glory of the waterfall, a sense of peace and tranquility settled over the Man, Woman, and Cat. They knew that this moment – of unity, determination, and discovery – had forged an indelible bond between them. They had faced their fears and overcome their challenges together, relying on each other's strengths and weaknesses to reach their goal. And now, as they stood at the edge of the waterfall, they knew that their journey would stay with them forever, a testament to the power of friendship and resilience in the face of adversity.\n",
       "\n",
       "As they made their way back down the mountain, the Man, Woman, and Cat felt rejuvenated and restored. Their bodies were healed, their spirits renewed, and their hearts filled with gratitude for the adventure they had shared together. They knew that they would always cherish this moment, this experience of discovery and growth, and that it would shape their lives in ways they could never have imagined."
      ],
      "text/plain": [
       "<IPython.core.display.Markdown object>"
      ]
     },
     "metadata": {},
     "output_type": "display_data"
    }
   ],
   "source": [
    "import random\n",
    "from IPython.display import Markdown\n",
    "import ollama\n",
    "ollama.pull(\"llama2\")\n",
    "model = \"llama2\"\n",
    "\n",
    "length = [750, 1000, 1500, 2000]\n",
    "r_length = random.choice(length)\n",
    "    \n",
    "character = [\"Man\", \"Woman\", \"Child\", \"Dog\", \"Cat\"]\n",
    "r_character = random.sample(character, 3)\n",
    "\n",
    "setting = [\"15th century Asia\", \"17th century Europe\", \"19th century South America\", \"20th century Africa\", \"21st century Oceania\", \"25th century America\"]\n",
    "r_setting = random.choice(setting)\n",
    "\n",
    "plot = \"Events and actions that determine the story\"\n",
    "\n",
    "conflict = \"The problems, struggles and successes encountered by the characters in the story\"\n",
    "\n",
    "theme = [\"Literary Fiction\", \"Fantasy\", \"Sci-fi\", \"Mystery\", \"Horror\"]\n",
    "r_theme = random.choice(theme)\n",
    "\n",
    "def generate_short_story(model, length, character, setting, plot, conflict, theme):\n",
    "    \n",
    "\n",
    "    prompt = (f\"Write a creative short story of {r_length} words, with characters: {', '.join(r_character)} \"\n",
    "              f\"in {r_setting} with the following plot: {plot}. Include the {conflict} under the \"\n",
    "              f\"theme of {r_theme}.\")\n",
    "    \n",
    "    client = ollama.Client()\n",
    "\n",
    "    try:\n",
    "        \n",
    "        result = client.generate(model, prompt)\n",
    "            \n",
    "        story = \"\"\n",
    "    \n",
    "        if isinstance(result, list):\n",
    "            for para in result:\n",
    "                story += para\n",
    "        else:\n",
    "            story = result[\"response\"]\n",
    "        \n",
    "        return story\n",
    "\n",
    "    except Exception as e:\n",
    "        print(f\"An error occurred: {str(e)}\")\n",
    "        \n",
    "\n",
    "story = generate_short_story(model, r_length, r_character, r_setting, plot, conflict, r_theme)\n",
    "display(Markdown(story))\n",
    "        "
   ]
  },
  {
   "cell_type": "markdown",
   "id": "197a26d6-edb1-48ce-aaf4-25d40654db61",
   "metadata": {},
   "source": [
    "---"
   ]
  },
  {
   "cell_type": "markdown",
   "id": "df04ec98-84e0-4d14-8801-a9af4cc8bd8f",
   "metadata": {},
   "source": [
    "Writing Assistant Chat Function - Short Story Creator"
   ]
  },
  {
   "cell_type": "code",
   "execution_count": 22,
   "id": "29e321e8-04f9-4db8-a519-dee2c0486d4f",
   "metadata": {},
   "outputs": [
    {
     "data": {
      "text/markdown": [
       "\n",
       "Title: The Colors of Life\n",
       "\n",
       "In the heart of 20th century Africa, there lived a young child named Kofi, a curious and adventurous boy who loved exploring the world around him. He lived with his mother in a small village surrounded by lush green forests and vast blue skies. One day, while wandering through the forest, Kofi stumbled upon a mysterious cat with piercing green eyes. The cat, whose name was Midnight, became Kofi's loyal companion, accompanying him on his adventures and sharing his joys and sorrows.\n",
       "\n",
       "As Kofi grew older, he began to face challenges in life. His mother fell ill, and he had to take care of her, working tirelessly to provide for their needs. Despite the hardships, Kofi never lost hope, and with Midnight by his side, he continued to find joy in the simple things in life.\n",
       "\n",
       "One day, a kind-hearted man named Mr. Jenkins arrived in the village. He was an old man with a bushy white beard and twinkling eyes that seemed to hold a wealth of wisdom. Mr. Jenkins took a liking to Kofi and offered to help him and his mother. He taught Kofi how to farm, build furniture, and repair broken things around the village. With Mr. Jenkins' guidance, Kofi learned new skills and grew stronger, both physically and emotionally.\n",
       "\n",
       "However, life had other plans for Kofi. A severe drought struck the land, causing crops to wither and die. The villagers struggled to find food and water, and Kofi's mother became weak and frail. Midnight, sensing their distress, brought forth a mysterious power that allowed Kofi to communicate with animals. With this newfound ability, Kofi could understand the needs of the land and its creatures, and he worked tirelessly to restore the village's fertility and bring life back to the parched earth.\n",
       "\n",
       "As the drought subsided, the villagers began to thrive once again. Kofi's mother recovered from her illness, and Mr. Jenkins stayed on in the village, continuing to teach and guide Kofi. The boy had grown into a young man, full of hope and determination, and he knew that he could overcome any obstacle with the support of his friends and the power of his own resilience.\n",
       "\n",
       "The colors of life were vibrant and rich in this story, reflecting the themes of Literary Fiction. The green forests and blue skies represented the beauty and wonder of nature, while the struggles of Kofi and his friends symbolized the challenges that we all face in life. The bond between Kofi and Midnight demonstrated the power of friendship and companionship, while Mr. Jenkins' wisdom and guidance highlighted the importance of mentorship and support.\n",
       "\n",
       "Throughout the story, the characters encountered a variety of problems, including illness, drought, and hardship. However, they also experienced moments of joy, hope, and success, showing that life is full of ups and downs but ultimately worth living. The colors of life were a metaphor for the resilience and determination of the characters, demonstrating that even in the darkest moments, there is always a glimmer of light to be found.\n",
       "\n",
       "In the end, Kofi had grown into a strong and compassionate young man, capable of overcoming any obstacle that came his way. The colors of life had faded but remained vibrant in his heart, reminding him of the beauty and wonder of the world around him. As he looked out at the vast blue skies and green forests, he knew that he would always find hope and joy in the simple things in life, no matter what challenges lay ahead."
      ],
      "text/plain": [
       "<IPython.core.display.Markdown object>"
      ]
     },
     "metadata": {},
     "output_type": "display_data"
    }
   ],
   "source": [
    "import random\n",
    "from IPython.display import Markdown\n",
    "\n",
    "from ollama import Client\n",
    "\n",
    "import ollama\n",
    "ollama.pull(\"llama2\")\n",
    "model = \"llama2\"\n",
    "\n",
    "length = [750, 1000, 1500, 2000]\n",
    "r_length = random.choice(length)\n",
    "    \n",
    "character = [\"Man\", \"Woman\", \"Child\", \"Dog\", \"Cat\"]\n",
    "r_character = random.sample(character, 3)\n",
    "\n",
    "setting = [\"15th century Asia\", \"17th century Europe\", \"19th century South America\", \"20th century Africa\", \"21st century Oceania\", \"25th century America\"]\n",
    "r_setting = random.choice(setting)\n",
    "\n",
    "plot = \"Events and actions that determine the story\"\n",
    "\n",
    "conflict = \"The problems, struggles and successes encountered by the characters in the story\"\n",
    "\n",
    "theme = [\"Literary Fiction\", \"Fantasy\", \"Sci-fi\", \"Mystery\", \"Horror\"]\n",
    "r_theme = random.choice(theme)\n",
    "\n",
    "def chat_short_story(model, length, character, setting, plot, conflict, theme):\n",
    "    system_message = \"You are a highly creative short story writer capable of writing across any genre\"\n",
    "    \n",
    "    prompt = (f\"Write a creative short story of {r_length} words, with characters: {', '.join(r_character)} \"\n",
    "              f\"in {r_setting} with the following plot: {plot}. Include the {conflict} under the \"\n",
    "              f\"theme of {r_theme}.\")\n",
    "\n",
    "    client = Client(host=\"http://localhost:11434\")\n",
    "\n",
    "    result = client.chat(model=\"llama2\",  messages= [\n",
    "    {\n",
    "        \"role\": \"assistant\", \"content\": system_message,\n",
    "        \"role\": \"user\", \"content\": prompt,\n",
    "    },\n",
    "])\n",
    "\n",
    "    story = \"\"\n",
    "\n",
    "    if isinstance(result, list):\n",
    "        for para in result:\n",
    "            story += para\n",
    "    else:\n",
    "        story = result[\"message\"][\"content\"]\n",
    "    \n",
    "    return story\n",
    "\n",
    "story = chat_short_story(model, r_length, r_character, r_setting, plot, conflict, r_theme)\n",
    "display(Markdown(story))\n",
    "        \n",
    "        "
   ]
  },
  {
   "cell_type": "code",
   "execution_count": null,
   "id": "262234d4-2fee-4c1e-8c47-2fac5213c2d6",
   "metadata": {},
   "outputs": [],
   "source": []
  },
  {
   "cell_type": "code",
   "execution_count": null,
   "id": "8b720267-52be-4be8-a12f-b240b012f329",
   "metadata": {},
   "outputs": [],
   "source": []
  }
 ],
 "metadata": {
  "kernelspec": {
   "display_name": "Python 3 (ipykernel)",
   "language": "python",
   "name": "python3"
  },
  "language_info": {
   "codemirror_mode": {
    "name": "ipython",
    "version": 3
   },
   "file_extension": ".py",
   "mimetype": "text/x-python",
   "name": "python",
   "nbconvert_exporter": "python",
   "pygments_lexer": "ipython3",
   "version": "3.12.3"
  }
 },
 "nbformat": 4,
 "nbformat_minor": 5
}
